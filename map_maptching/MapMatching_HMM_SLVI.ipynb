{
 "cells": [
  {
   "cell_type": "markdown",
   "metadata": {},
   "source": [
    "# Step 1 Prepare Road Network"
   ]
  },
  {
   "cell_type": "code",
   "execution_count": 1,
   "metadata": {},
   "outputs": [],
   "source": [
    "from pyspark import SparkContext, SparkConf\n",
    "from pyspark.sql import SparkSession\n",
    "from pyspark import SparkContext, SparkConf\n",
    "from pyspark.sql import SparkSession\n",
    "from pyspark.sql import SQLContext\n",
    "from pyspark.sql.functions import udf\n",
    "from datetime import datetime\n",
    "from sklearn.cluster import DBSCAN\n",
    "from collections import Counter\n",
    "from sklearn.preprocessing import StandardScaler\n",
    "import matplotlib.pyplot as plt\n",
    "from pylab import rcParams\n",
    "rcParams['figure.figsize']= 20,20\n",
    "%matplotlib inline\n",
    "import numpy as np\n",
    "import pandas as pd\n",
    " \n",
    " "
   ]
  },
  {
   "cell_type": "code",
   "execution_count": 2,
   "metadata": {},
   "outputs": [],
   "source": [
    "import networkx as nx"
   ]
  },
  {
   "cell_type": "code",
   "execution_count": 3,
   "metadata": {},
   "outputs": [],
   "source": [
    "import osmnx as ox\n",
    "import pandas as pd"
   ]
  },
  {
   "cell_type": "code",
   "execution_count": 4,
   "metadata": {},
   "outputs": [],
   "source": [
    "road_folder = './data/osm/colombo_road'\n",
    "path= './data/osm/central/central.graphml'\n",
    "#road_graph = ox.load_graphml(filename=road_file, folder=road_folder)\n",
    "road_graph1=ox.load_graphml(filepath=path, node_dtypes=None, edge_dtypes=None, graph_dtypes=None)\n",
    "road_graph_utm1 = ox.project_graph(road_graph1)"
   ]
  },
  {
   "cell_type": "code",
   "execution_count": 5,
   "metadata": {},
   "outputs": [],
   "source": [
    "road_folder = './data/osm/colombo_road'\n",
    "path='./data/osm/colombo_road/western.graphml'\n",
    "#road_graph = ox.load_graphml(filename=road_file, folder=road_folder)\n",
    "road_graph2=ox.load_graphml(filepath=path, node_dtypes=None, edge_dtypes=None, graph_dtypes=None)\n",
    "road_graph_utm2 = ox.project_graph(road_graph2)"
   ]
  },
  {
   "cell_type": "code",
   "execution_count": 6,
   "metadata": {},
   "outputs": [],
   "source": [
    "road_graph=nx.compose(road_graph1,road_graph2)"
   ]
  },
  {
   "cell_type": "code",
   "execution_count": 7,
   "metadata": {},
   "outputs": [],
   "source": [
    "road_graph_utm = ox.project_graph(road_graph)"
   ]
  },
  {
   "cell_type": "code",
   "execution_count": 8,
   "metadata": {},
   "outputs": [],
   "source": [
    "drivers=pd.read_csv(\"/home/huntersfyp17/py36/MapMatching/driver_vehicle_model.csv\")"
   ]
  },
  {
   "cell_type": "code",
   "execution_count": 9,
   "metadata": {},
   "outputs": [
    {
     "data": {
      "text/html": [
       "<div>\n",
       "<style scoped>\n",
       "    .dataframe tbody tr th:only-of-type {\n",
       "        vertical-align: middle;\n",
       "    }\n",
       "\n",
       "    .dataframe tbody tr th {\n",
       "        vertical-align: top;\n",
       "    }\n",
       "\n",
       "    .dataframe thead th {\n",
       "        text-align: right;\n",
       "    }\n",
       "</style>\n",
       "<table border=\"1\" class=\"dataframe\">\n",
       "  <thead>\n",
       "    <tr style=\"text-align: right;\">\n",
       "      <th></th>\n",
       "      <th>Unnamed: 0</th>\n",
       "      <th>driver_id</th>\n",
       "      <th>vehicle_model</th>\n",
       "    </tr>\n",
       "  </thead>\n",
       "  <tbody>\n",
       "    <tr>\n",
       "      <th>0</th>\n",
       "      <td>0</td>\n",
       "      <td>0038263cc90dfa55d621a6425e46020136a318d12b9743...</td>\n",
       "      <td>2</td>\n",
       "    </tr>\n",
       "    <tr>\n",
       "      <th>1</th>\n",
       "      <td>1</td>\n",
       "      <td>006ed08c7fe1278c64a3c5dbac78c7b0a9cec8d7316c51...</td>\n",
       "      <td>1</td>\n",
       "    </tr>\n",
       "    <tr>\n",
       "      <th>2</th>\n",
       "      <td>2</td>\n",
       "      <td>00c6dda371d7192310a3b12f05c8c82d56e1b7a39537c2...</td>\n",
       "      <td>1</td>\n",
       "    </tr>\n",
       "    <tr>\n",
       "      <th>3</th>\n",
       "      <td>3</td>\n",
       "      <td>00ce195f11cfa5d5e228095893a866e2ec79cf3aa1c423...</td>\n",
       "      <td>1</td>\n",
       "    </tr>\n",
       "    <tr>\n",
       "      <th>4</th>\n",
       "      <td>4</td>\n",
       "      <td>010cbc4ccc307d3b4fd7214c8d6c76d700ec0561fc467a...</td>\n",
       "      <td>1</td>\n",
       "    </tr>\n",
       "    <tr>\n",
       "      <th>...</th>\n",
       "      <td>...</td>\n",
       "      <td>...</td>\n",
       "      <td>...</td>\n",
       "    </tr>\n",
       "    <tr>\n",
       "      <th>1070</th>\n",
       "      <td>1070</td>\n",
       "      <td>fcc50d56654bd6e3fe3aaa7eabae4aed68cebc9ae1d0cc...</td>\n",
       "      <td>4</td>\n",
       "    </tr>\n",
       "    <tr>\n",
       "      <th>1071</th>\n",
       "      <td>1071</td>\n",
       "      <td>fdddb7ff6f41dadcdfd96eda412d6cf5dae1de323112b7...</td>\n",
       "      <td>1</td>\n",
       "    </tr>\n",
       "    <tr>\n",
       "      <th>1072</th>\n",
       "      <td>1072</td>\n",
       "      <td>fdf5ca9f3b4300b5e81144d90ceda40ccff2c77ec5bc31...</td>\n",
       "      <td>1</td>\n",
       "    </tr>\n",
       "    <tr>\n",
       "      <th>1073</th>\n",
       "      <td>1073</td>\n",
       "      <td>fe4abf2fbd236caeb3e04b36379e7394bfb67c1beef1b4...</td>\n",
       "      <td>1</td>\n",
       "    </tr>\n",
       "    <tr>\n",
       "      <th>1074</th>\n",
       "      <td>1074</td>\n",
       "      <td>ff829fe752121ac0a41d2e262615d45572f001419f895a...</td>\n",
       "      <td>1</td>\n",
       "    </tr>\n",
       "  </tbody>\n",
       "</table>\n",
       "<p>1075 rows × 3 columns</p>\n",
       "</div>"
      ],
      "text/plain": [
       "      Unnamed: 0                                          driver_id  \\\n",
       "0              0  0038263cc90dfa55d621a6425e46020136a318d12b9743...   \n",
       "1              1  006ed08c7fe1278c64a3c5dbac78c7b0a9cec8d7316c51...   \n",
       "2              2  00c6dda371d7192310a3b12f05c8c82d56e1b7a39537c2...   \n",
       "3              3  00ce195f11cfa5d5e228095893a866e2ec79cf3aa1c423...   \n",
       "4              4  010cbc4ccc307d3b4fd7214c8d6c76d700ec0561fc467a...   \n",
       "...          ...                                                ...   \n",
       "1070        1070  fcc50d56654bd6e3fe3aaa7eabae4aed68cebc9ae1d0cc...   \n",
       "1071        1071  fdddb7ff6f41dadcdfd96eda412d6cf5dae1de323112b7...   \n",
       "1072        1072  fdf5ca9f3b4300b5e81144d90ceda40ccff2c77ec5bc31...   \n",
       "1073        1073  fe4abf2fbd236caeb3e04b36379e7394bfb67c1beef1b4...   \n",
       "1074        1074  ff829fe752121ac0a41d2e262615d45572f001419f895a...   \n",
       "\n",
       "      vehicle_model  \n",
       "0                 2  \n",
       "1                 1  \n",
       "2                 1  \n",
       "3                 1  \n",
       "4                 1  \n",
       "...             ...  \n",
       "1070              4  \n",
       "1071              1  \n",
       "1072              1  \n",
       "1073              1  \n",
       "1074              1  \n",
       "\n",
       "[1075 rows x 3 columns]"
      ]
     },
     "execution_count": 9,
     "metadata": {},
     "output_type": "execute_result"
    }
   ],
   "source": [
    "drivers"
   ]
  },
  {
   "cell_type": "code",
   "execution_count": 10,
   "metadata": {},
   "outputs": [
    {
     "data": {
      "text/plain": [
       "0       0038263cc90dfa55d621a6425e46020136a318d12b9743...\n",
       "1       006ed08c7fe1278c64a3c5dbac78c7b0a9cec8d7316c51...\n",
       "2       00c6dda371d7192310a3b12f05c8c82d56e1b7a39537c2...\n",
       "3       00ce195f11cfa5d5e228095893a866e2ec79cf3aa1c423...\n",
       "4       010cbc4ccc307d3b4fd7214c8d6c76d700ec0561fc467a...\n",
       "                              ...                        \n",
       "1070    fcc50d56654bd6e3fe3aaa7eabae4aed68cebc9ae1d0cc...\n",
       "1071    fdddb7ff6f41dadcdfd96eda412d6cf5dae1de323112b7...\n",
       "1072    fdf5ca9f3b4300b5e81144d90ceda40ccff2c77ec5bc31...\n",
       "1073    fe4abf2fbd236caeb3e04b36379e7394bfb67c1beef1b4...\n",
       "1074    ff829fe752121ac0a41d2e262615d45572f001419f895a...\n",
       "Name: driver_id, Length: 1075, dtype: object"
      ]
     },
     "execution_count": 10,
     "metadata": {},
     "output_type": "execute_result"
    }
   ],
   "source": [
    "drivers.drop(['Unnamed: 0'], axis=1, inplace=True)\n",
    "drivers[\"driver_id\"]"
   ]
  },
  {
   "cell_type": "markdown",
   "metadata": {},
   "source": [
    "### 1.1 Extract Edge Data from Road Network"
   ]
  },
  {
   "cell_type": "markdown",
   "metadata": {},
   "source": [
    "def road_graph_to_edge_gpd(road_graph):\n",
    "    '''\n",
    "    store road segments into a geppandas dataframe\n",
    "    :param road_graph: a road network graph in networkx\n",
    "    :return gpd_edges: a geopandas dataframe of road segments\n",
    "    '''\n",
    "    from shapely.geometry import Point, LineString\n",
    "    import geopandas as gpd\n",
    "    #froms = []\n",
    "    #tos = []\n",
    "    #geometries = []\n",
    "    c=0\n",
    "    gpd_edges = gpd.GeoDataFrame(columns=('from','to','geometry','length','highway'))\n",
    "    for e_from, e_to, data in road_graph.edges(data=True):\n",
    "        c+=1\n",
    "        print(c)\n",
    "        #froms.append(e_from)\n",
    "        #tos.append(e_to)\n",
    "        if 'geometry' in data:\n",
    "            #geometries.append(data['geometry'])\n",
    "            s = gpd.GeoSeries({'from':e_from, \n",
    "                               'to':e_to, \n",
    "                               'geometry':data['geometry'], \n",
    "                               'length':data['length'],\n",
    "                               'highway':data['highway']})\n",
    "            gpd_edges = gpd_edges.append(s, ignore_index=True)\n",
    "        else:\n",
    "            p1 = Point(road_graph.nodes[e_from]['x'], road_graph.nodes[e_from]['y'])\n",
    "            p2 = Point(road_graph.nodes[e_to]['x'], road_graph.nodes[e_to]['y'])\n",
    "            #geometries.append(LineString((p1, p2)))\n",
    "            data.update({'geometry':LineString((p1, p2))})\n",
    "            s = gpd.GeoSeries({'from':e_from, \n",
    "                               'to':e_to, \n",
    "                               'geometry':LineString((p1, p2)), \n",
    "                               'length':data['length'],\n",
    "                               'highway':data['highway']})\n",
    "            gpd_edges = gpd_edges.append(s, ignore_index=True)\n",
    "\n",
    "    #gpd_edges = gpd.GeoDataFrame(data={'from': froms, 'to': tos, 'geometry': geometries})\n",
    "    gpd_edges.crs = road_graph.graph['crs']\n",
    "    gpd_edges.name = 'edges'\n",
    "    # create bounding box for each edge geometry\n",
    "    gpd_edges['bbox'] = gpd_edges.apply(lambda row: row['geometry'].bounds, axis=1)\n",
    "    return gpd_edges\n",
    "\n",
    "gpd_edges_utm = road_graph_to_edge_gpd(road_graph_utm)\n",
    "gpd_edges_utm.head()"
   ]
  },
  {
   "cell_type": "code",
   "execution_count": 11,
   "metadata": {},
   "outputs": [],
   "source": [
    "loaded_gdf2=pd.read_csv(\"central_data.csv\")"
   ]
  },
  {
   "cell_type": "code",
   "execution_count": 12,
   "metadata": {},
   "outputs": [],
   "source": [
    "loaded_gdf1=pd.read_csv(\"western_data.csv\")"
   ]
  },
  {
   "cell_type": "code",
   "execution_count": 13,
   "metadata": {},
   "outputs": [],
   "source": [
    "loaded_gdf=pd.concat([loaded_gdf1, loaded_gdf2])"
   ]
  },
  {
   "cell_type": "code",
   "execution_count": 14,
   "metadata": {},
   "outputs": [
    {
     "data": {
      "text/html": [
       "<div>\n",
       "<style scoped>\n",
       "    .dataframe tbody tr th:only-of-type {\n",
       "        vertical-align: middle;\n",
       "    }\n",
       "\n",
       "    .dataframe tbody tr th {\n",
       "        vertical-align: top;\n",
       "    }\n",
       "\n",
       "    .dataframe thead th {\n",
       "        text-align: right;\n",
       "    }\n",
       "</style>\n",
       "<table border=\"1\" class=\"dataframe\">\n",
       "  <thead>\n",
       "    <tr style=\"text-align: right;\">\n",
       "      <th></th>\n",
       "      <th>from</th>\n",
       "      <th>to</th>\n",
       "      <th>geometry</th>\n",
       "      <th>length</th>\n",
       "      <th>highway</th>\n",
       "      <th>bbox</th>\n",
       "      <th>minx</th>\n",
       "      <th>miny</th>\n",
       "      <th>maxx</th>\n",
       "      <th>maxy</th>\n",
       "    </tr>\n",
       "  </thead>\n",
       "  <tbody>\n",
       "    <tr>\n",
       "      <th>0</th>\n",
       "      <td>245519560</td>\n",
       "      <td>245519575</td>\n",
       "      <td>LINESTRING (397331.1361488708 736776.324841928...</td>\n",
       "      <td>148.019</td>\n",
       "      <td>secondary</td>\n",
       "      <td>(397331.1361488708, 736639.4074819647, 397384....</td>\n",
       "      <td>397331.136149</td>\n",
       "      <td>736639.407482</td>\n",
       "      <td>397384.215483</td>\n",
       "      <td>736776.324842</td>\n",
       "    </tr>\n",
       "    <tr>\n",
       "      <th>1</th>\n",
       "      <td>245519560</td>\n",
       "      <td>5176906299</td>\n",
       "      <td>LINESTRING (397331.1361488708 736776.324841928...</td>\n",
       "      <td>60.641</td>\n",
       "      <td>secondary</td>\n",
       "      <td>(397315.43962857814, 736776.3248419286, 397331...</td>\n",
       "      <td>397315.439629</td>\n",
       "      <td>736776.324842</td>\n",
       "      <td>397331.136149</td>\n",
       "      <td>736834.076733</td>\n",
       "    </tr>\n",
       "    <tr>\n",
       "      <th>2</th>\n",
       "      <td>245519560</td>\n",
       "      <td>7448531613</td>\n",
       "      <td>LINESTRING (397331.1361488708 736776.324841928...</td>\n",
       "      <td>164.582</td>\n",
       "      <td>residential</td>\n",
       "      <td>(397200.63795636094, 736692.2725808757, 397331...</td>\n",
       "      <td>397200.637956</td>\n",
       "      <td>736692.272581</td>\n",
       "      <td>397331.136149</td>\n",
       "      <td>736776.324842</td>\n",
       "    </tr>\n",
       "    <tr>\n",
       "      <th>3</th>\n",
       "      <td>245519575</td>\n",
       "      <td>245519579</td>\n",
       "      <td>LINESTRING (397384.2154834146 736639.407481964...</td>\n",
       "      <td>228.132</td>\n",
       "      <td>secondary</td>\n",
       "      <td>(397165.21585523034, 736579.1114031723, 397384...</td>\n",
       "      <td>397165.215855</td>\n",
       "      <td>736579.111403</td>\n",
       "      <td>397384.215483</td>\n",
       "      <td>736639.407482</td>\n",
       "    </tr>\n",
       "    <tr>\n",
       "      <th>4</th>\n",
       "      <td>245519575</td>\n",
       "      <td>5016718667</td>\n",
       "      <td>LINESTRING (397384.2154834146 736639.407481964...</td>\n",
       "      <td>250.299</td>\n",
       "      <td>secondary</td>\n",
       "      <td>(397384.21548341465, 736398.5668867913, 397435...</td>\n",
       "      <td>397384.215483</td>\n",
       "      <td>736398.566887</td>\n",
       "      <td>397435.872836</td>\n",
       "      <td>736639.407482</td>\n",
       "    </tr>\n",
       "    <tr>\n",
       "      <th>...</th>\n",
       "      <td>...</td>\n",
       "      <td>...</td>\n",
       "      <td>...</td>\n",
       "      <td>...</td>\n",
       "      <td>...</td>\n",
       "      <td>...</td>\n",
       "      <td>...</td>\n",
       "      <td>...</td>\n",
       "      <td>...</td>\n",
       "      <td>...</td>\n",
       "    </tr>\n",
       "    <tr>\n",
       "      <th>61075</th>\n",
       "      <td>8814994092</td>\n",
       "      <td>8814994095</td>\n",
       "      <td>LINESTRING (480491.3066103494 773232.539174372...</td>\n",
       "      <td>41.670</td>\n",
       "      <td>residential</td>\n",
       "      <td>(480491.30661034945, 773232.5391743727, 480513...</td>\n",
       "      <td>480491.306610</td>\n",
       "      <td>773232.539174</td>\n",
       "      <td>480513.663327</td>\n",
       "      <td>773264.921068</td>\n",
       "    </tr>\n",
       "    <tr>\n",
       "      <th>61076</th>\n",
       "      <td>8814994099</td>\n",
       "      <td>8814994095</td>\n",
       "      <td>LINESTRING (480566.1341172313 773221.390103587...</td>\n",
       "      <td>68.309</td>\n",
       "      <td>residential</td>\n",
       "      <td>(480513.66332724725, 773221.3901035874, 480566...</td>\n",
       "      <td>480513.663327</td>\n",
       "      <td>773221.390104</td>\n",
       "      <td>480566.134117</td>\n",
       "      <td>773264.921068</td>\n",
       "    </tr>\n",
       "    <tr>\n",
       "      <th>61077</th>\n",
       "      <td>8814994116</td>\n",
       "      <td>8815094721</td>\n",
       "      <td>LINESTRING (480468.6775298979 773739.030044396...</td>\n",
       "      <td>75.715</td>\n",
       "      <td>residential</td>\n",
       "      <td>(480468.67752989795, 773683.6931655777, 480519...</td>\n",
       "      <td>480468.677530</td>\n",
       "      <td>773683.693166</td>\n",
       "      <td>480519.608087</td>\n",
       "      <td>773739.030044</td>\n",
       "    </tr>\n",
       "    <tr>\n",
       "      <th>61078</th>\n",
       "      <td>8815094718</td>\n",
       "      <td>8815094721</td>\n",
       "      <td>LINESTRING (480479.464355864 773668.8396601261...</td>\n",
       "      <td>44.217</td>\n",
       "      <td>residential</td>\n",
       "      <td>(480479.46435586404, 773668.8396601261, 480519...</td>\n",
       "      <td>480479.464356</td>\n",
       "      <td>773668.839660</td>\n",
       "      <td>480519.608087</td>\n",
       "      <td>773684.569989</td>\n",
       "    </tr>\n",
       "    <tr>\n",
       "      <th>61079</th>\n",
       "      <td>8990093955</td>\n",
       "      <td>8990093976</td>\n",
       "      <td>LINESTRING (485294.3660750297 790854.346265145...</td>\n",
       "      <td>371.961</td>\n",
       "      <td>residential</td>\n",
       "      <td>(485108.0257000428, 790854.346265145, 485329.7...</td>\n",
       "      <td>485108.025700</td>\n",
       "      <td>790854.346265</td>\n",
       "      <td>485329.791537</td>\n",
       "      <td>790997.463880</td>\n",
       "    </tr>\n",
       "  </tbody>\n",
       "</table>\n",
       "<p>322178 rows × 10 columns</p>\n",
       "</div>"
      ],
      "text/plain": [
       "             from          to  \\\n",
       "0       245519560   245519575   \n",
       "1       245519560  5176906299   \n",
       "2       245519560  7448531613   \n",
       "3       245519575   245519579   \n",
       "4       245519575  5016718667   \n",
       "...           ...         ...   \n",
       "61075  8814994092  8814994095   \n",
       "61076  8814994099  8814994095   \n",
       "61077  8814994116  8815094721   \n",
       "61078  8815094718  8815094721   \n",
       "61079  8990093955  8990093976   \n",
       "\n",
       "                                                geometry   length  \\\n",
       "0      LINESTRING (397331.1361488708 736776.324841928...  148.019   \n",
       "1      LINESTRING (397331.1361488708 736776.324841928...   60.641   \n",
       "2      LINESTRING (397331.1361488708 736776.324841928...  164.582   \n",
       "3      LINESTRING (397384.2154834146 736639.407481964...  228.132   \n",
       "4      LINESTRING (397384.2154834146 736639.407481964...  250.299   \n",
       "...                                                  ...      ...   \n",
       "61075  LINESTRING (480491.3066103494 773232.539174372...   41.670   \n",
       "61076  LINESTRING (480566.1341172313 773221.390103587...   68.309   \n",
       "61077  LINESTRING (480468.6775298979 773739.030044396...   75.715   \n",
       "61078  LINESTRING (480479.464355864 773668.8396601261...   44.217   \n",
       "61079  LINESTRING (485294.3660750297 790854.346265145...  371.961   \n",
       "\n",
       "           highway                                               bbox  \\\n",
       "0        secondary  (397331.1361488708, 736639.4074819647, 397384....   \n",
       "1        secondary  (397315.43962857814, 736776.3248419286, 397331...   \n",
       "2      residential  (397200.63795636094, 736692.2725808757, 397331...   \n",
       "3        secondary  (397165.21585523034, 736579.1114031723, 397384...   \n",
       "4        secondary  (397384.21548341465, 736398.5668867913, 397435...   \n",
       "...            ...                                                ...   \n",
       "61075  residential  (480491.30661034945, 773232.5391743727, 480513...   \n",
       "61076  residential  (480513.66332724725, 773221.3901035874, 480566...   \n",
       "61077  residential  (480468.67752989795, 773683.6931655777, 480519...   \n",
       "61078  residential  (480479.46435586404, 773668.8396601261, 480519...   \n",
       "61079  residential  (485108.0257000428, 790854.346265145, 485329.7...   \n",
       "\n",
       "                minx           miny           maxx           maxy  \n",
       "0      397331.136149  736639.407482  397384.215483  736776.324842  \n",
       "1      397315.439629  736776.324842  397331.136149  736834.076733  \n",
       "2      397200.637956  736692.272581  397331.136149  736776.324842  \n",
       "3      397165.215855  736579.111403  397384.215483  736639.407482  \n",
       "4      397384.215483  736398.566887  397435.872836  736639.407482  \n",
       "...              ...            ...            ...            ...  \n",
       "61075  480491.306610  773232.539174  480513.663327  773264.921068  \n",
       "61076  480513.663327  773221.390104  480566.134117  773264.921068  \n",
       "61077  480468.677530  773683.693166  480519.608087  773739.030044  \n",
       "61078  480479.464356  773668.839660  480519.608087  773684.569989  \n",
       "61079  485108.025700  790854.346265  485329.791537  790997.463880  \n",
       "\n",
       "[322178 rows x 10 columns]"
      ]
     },
     "execution_count": 14,
     "metadata": {},
     "output_type": "execute_result"
    }
   ],
   "source": [
    "loaded_gdf"
   ]
  },
  {
   "cell_type": "code",
   "execution_count": 15,
   "metadata": {},
   "outputs": [],
   "source": [
    "from geopandas import GeoDataFrame\n",
    "from shapely import wkt\n",
    "\n",
    "geo_df = GeoDataFrame(loaded_gdf[[\"from\", \"to\",\"geometry\",\"length\",\"highway\",\"bbox\"]],  geometry=loaded_gdf.geometry.apply(wkt.loads))"
   ]
  },
  {
   "cell_type": "code",
   "execution_count": 16,
   "metadata": {},
   "outputs": [],
   "source": [
    " geo_df['bbox'] = geo_df.apply(lambda row: row['geometry'].bounds, axis=1)"
   ]
  },
  {
   "cell_type": "code",
   "execution_count": 17,
   "metadata": {},
   "outputs": [],
   "source": [
    "gpd_edges_utm=geo_df"
   ]
  },
  {
   "cell_type": "code",
   "execution_count": 18,
   "metadata": {},
   "outputs": [
    {
     "data": {
      "text/html": [
       "<div>\n",
       "<style scoped>\n",
       "    .dataframe tbody tr th:only-of-type {\n",
       "        vertical-align: middle;\n",
       "    }\n",
       "\n",
       "    .dataframe tbody tr th {\n",
       "        vertical-align: top;\n",
       "    }\n",
       "\n",
       "    .dataframe thead th {\n",
       "        text-align: right;\n",
       "    }\n",
       "</style>\n",
       "<table border=\"1\" class=\"dataframe\">\n",
       "  <thead>\n",
       "    <tr style=\"text-align: right;\">\n",
       "      <th></th>\n",
       "      <th>from</th>\n",
       "      <th>to</th>\n",
       "      <th>geometry</th>\n",
       "      <th>length</th>\n",
       "      <th>highway</th>\n",
       "      <th>bbox</th>\n",
       "    </tr>\n",
       "  </thead>\n",
       "  <tbody>\n",
       "    <tr>\n",
       "      <th>0</th>\n",
       "      <td>245519560</td>\n",
       "      <td>245519575</td>\n",
       "      <td>LINESTRING (397331.136 736776.325, 397342.285 ...</td>\n",
       "      <td>148.019</td>\n",
       "      <td>secondary</td>\n",
       "      <td>(397331.1361488708, 736639.4074819647, 397384....</td>\n",
       "    </tr>\n",
       "    <tr>\n",
       "      <th>1</th>\n",
       "      <td>245519560</td>\n",
       "      <td>5176906299</td>\n",
       "      <td>LINESTRING (397331.136 736776.325, 397322.799 ...</td>\n",
       "      <td>60.641</td>\n",
       "      <td>secondary</td>\n",
       "      <td>(397315.4396285781, 736776.3248419286, 397331....</td>\n",
       "    </tr>\n",
       "    <tr>\n",
       "      <th>2</th>\n",
       "      <td>245519560</td>\n",
       "      <td>7448531613</td>\n",
       "      <td>LINESTRING (397331.136 736776.325, 397292.662 ...</td>\n",
       "      <td>164.582</td>\n",
       "      <td>residential</td>\n",
       "      <td>(397200.6379563609, 736692.2725808757, 397331....</td>\n",
       "    </tr>\n",
       "    <tr>\n",
       "      <th>3</th>\n",
       "      <td>245519575</td>\n",
       "      <td>245519579</td>\n",
       "      <td>LINESTRING (397384.215 736639.407, 397347.099 ...</td>\n",
       "      <td>228.132</td>\n",
       "      <td>secondary</td>\n",
       "      <td>(397165.2158552303, 736579.1114031723, 397384....</td>\n",
       "    </tr>\n",
       "    <tr>\n",
       "      <th>4</th>\n",
       "      <td>245519575</td>\n",
       "      <td>5016718667</td>\n",
       "      <td>LINESTRING (397384.215 736639.407, 397399.075 ...</td>\n",
       "      <td>250.299</td>\n",
       "      <td>secondary</td>\n",
       "      <td>(397384.2154834146, 736398.5668867913, 397435....</td>\n",
       "    </tr>\n",
       "    <tr>\n",
       "      <th>...</th>\n",
       "      <td>...</td>\n",
       "      <td>...</td>\n",
       "      <td>...</td>\n",
       "      <td>...</td>\n",
       "      <td>...</td>\n",
       "      <td>...</td>\n",
       "    </tr>\n",
       "    <tr>\n",
       "      <th>61075</th>\n",
       "      <td>8814994092</td>\n",
       "      <td>8814994095</td>\n",
       "      <td>LINESTRING (480491.307 773232.539, 480493.542 ...</td>\n",
       "      <td>41.670</td>\n",
       "      <td>residential</td>\n",
       "      <td>(480491.3066103494, 773232.5391743727, 480513....</td>\n",
       "    </tr>\n",
       "    <tr>\n",
       "      <th>61076</th>\n",
       "      <td>8814994099</td>\n",
       "      <td>8814994095</td>\n",
       "      <td>LINESTRING (480566.134 773221.390, 480513.663 ...</td>\n",
       "      <td>68.309</td>\n",
       "      <td>residential</td>\n",
       "      <td>(480513.6633272473, 773221.3901035874, 480566....</td>\n",
       "    </tr>\n",
       "    <tr>\n",
       "      <th>61077</th>\n",
       "      <td>8814994116</td>\n",
       "      <td>8815094721</td>\n",
       "      <td>LINESTRING (480468.678 773739.030, 480515.613 ...</td>\n",
       "      <td>75.715</td>\n",
       "      <td>residential</td>\n",
       "      <td>(480468.6775298979, 773683.6931655777, 480519....</td>\n",
       "    </tr>\n",
       "    <tr>\n",
       "      <th>61078</th>\n",
       "      <td>8815094718</td>\n",
       "      <td>8815094721</td>\n",
       "      <td>LINESTRING (480479.464 773668.840, 480501.836 ...</td>\n",
       "      <td>44.217</td>\n",
       "      <td>residential</td>\n",
       "      <td>(480479.464355864, 773668.8396601261, 480519.6...</td>\n",
       "    </tr>\n",
       "    <tr>\n",
       "      <th>61079</th>\n",
       "      <td>8990093955</td>\n",
       "      <td>8990093976</td>\n",
       "      <td>LINESTRING (485294.366 790854.346, 485297.481 ...</td>\n",
       "      <td>371.961</td>\n",
       "      <td>residential</td>\n",
       "      <td>(485108.0257000428, 790854.346265145, 485329.7...</td>\n",
       "    </tr>\n",
       "  </tbody>\n",
       "</table>\n",
       "<p>322178 rows × 6 columns</p>\n",
       "</div>"
      ],
      "text/plain": [
       "             from          to  \\\n",
       "0       245519560   245519575   \n",
       "1       245519560  5176906299   \n",
       "2       245519560  7448531613   \n",
       "3       245519575   245519579   \n",
       "4       245519575  5016718667   \n",
       "...           ...         ...   \n",
       "61075  8814994092  8814994095   \n",
       "61076  8814994099  8814994095   \n",
       "61077  8814994116  8815094721   \n",
       "61078  8815094718  8815094721   \n",
       "61079  8990093955  8990093976   \n",
       "\n",
       "                                                geometry   length  \\\n",
       "0      LINESTRING (397331.136 736776.325, 397342.285 ...  148.019   \n",
       "1      LINESTRING (397331.136 736776.325, 397322.799 ...   60.641   \n",
       "2      LINESTRING (397331.136 736776.325, 397292.662 ...  164.582   \n",
       "3      LINESTRING (397384.215 736639.407, 397347.099 ...  228.132   \n",
       "4      LINESTRING (397384.215 736639.407, 397399.075 ...  250.299   \n",
       "...                                                  ...      ...   \n",
       "61075  LINESTRING (480491.307 773232.539, 480493.542 ...   41.670   \n",
       "61076  LINESTRING (480566.134 773221.390, 480513.663 ...   68.309   \n",
       "61077  LINESTRING (480468.678 773739.030, 480515.613 ...   75.715   \n",
       "61078  LINESTRING (480479.464 773668.840, 480501.836 ...   44.217   \n",
       "61079  LINESTRING (485294.366 790854.346, 485297.481 ...  371.961   \n",
       "\n",
       "           highway                                               bbox  \n",
       "0        secondary  (397331.1361488708, 736639.4074819647, 397384....  \n",
       "1        secondary  (397315.4396285781, 736776.3248419286, 397331....  \n",
       "2      residential  (397200.6379563609, 736692.2725808757, 397331....  \n",
       "3        secondary  (397165.2158552303, 736579.1114031723, 397384....  \n",
       "4        secondary  (397384.2154834146, 736398.5668867913, 397435....  \n",
       "...            ...                                                ...  \n",
       "61075  residential  (480491.3066103494, 773232.5391743727, 480513....  \n",
       "61076  residential  (480513.6633272473, 773221.3901035874, 480566....  \n",
       "61077  residential  (480468.6775298979, 773683.6931655777, 480519....  \n",
       "61078  residential  (480479.464355864, 773668.8396601261, 480519.6...  \n",
       "61079  residential  (485108.0257000428, 790854.346265145, 485329.7...  \n",
       "\n",
       "[322178 rows x 6 columns]"
      ]
     },
     "execution_count": 18,
     "metadata": {},
     "output_type": "execute_result"
    }
   ],
   "source": [
    "geo_df"
   ]
  },
  {
   "cell_type": "markdown",
   "metadata": {},
   "source": [
    "### 1.2 Add max speed information"
   ]
  },
  {
   "cell_type": "code",
   "execution_count": 19,
   "metadata": {},
   "outputs": [
    {
     "data": {
      "text/html": [
       "<div>\n",
       "<style scoped>\n",
       "    .dataframe tbody tr th:only-of-type {\n",
       "        vertical-align: middle;\n",
       "    }\n",
       "\n",
       "    .dataframe tbody tr th {\n",
       "        vertical-align: top;\n",
       "    }\n",
       "\n",
       "    .dataframe thead th {\n",
       "        text-align: right;\n",
       "    }\n",
       "</style>\n",
       "<table border=\"1\" class=\"dataframe\">\n",
       "  <thead>\n",
       "    <tr style=\"text-align: right;\">\n",
       "      <th></th>\n",
       "      <th>from</th>\n",
       "      <th>to</th>\n",
       "      <th>geometry</th>\n",
       "      <th>length</th>\n",
       "      <th>highway</th>\n",
       "      <th>bbox</th>\n",
       "      <th>max speed</th>\n",
       "    </tr>\n",
       "  </thead>\n",
       "  <tbody>\n",
       "    <tr>\n",
       "      <th>0</th>\n",
       "      <td>245519560</td>\n",
       "      <td>245519575</td>\n",
       "      <td>LINESTRING (397331.136 736776.325, 397342.285 ...</td>\n",
       "      <td>148.019</td>\n",
       "      <td>secondary</td>\n",
       "      <td>(397331.1361488708, 736639.4074819647, 397384....</td>\n",
       "      <td>19.44</td>\n",
       "    </tr>\n",
       "    <tr>\n",
       "      <th>1</th>\n",
       "      <td>245519560</td>\n",
       "      <td>5176906299</td>\n",
       "      <td>LINESTRING (397331.136 736776.325, 397322.799 ...</td>\n",
       "      <td>60.641</td>\n",
       "      <td>secondary</td>\n",
       "      <td>(397315.4396285781, 736776.3248419286, 397331....</td>\n",
       "      <td>19.44</td>\n",
       "    </tr>\n",
       "    <tr>\n",
       "      <th>2</th>\n",
       "      <td>245519560</td>\n",
       "      <td>7448531613</td>\n",
       "      <td>LINESTRING (397331.136 736776.325, 397292.662 ...</td>\n",
       "      <td>164.582</td>\n",
       "      <td>residential</td>\n",
       "      <td>(397200.6379563609, 736692.2725808757, 397331....</td>\n",
       "      <td>13.89</td>\n",
       "    </tr>\n",
       "    <tr>\n",
       "      <th>3</th>\n",
       "      <td>245519575</td>\n",
       "      <td>245519579</td>\n",
       "      <td>LINESTRING (397384.215 736639.407, 397347.099 ...</td>\n",
       "      <td>228.132</td>\n",
       "      <td>secondary</td>\n",
       "      <td>(397165.2158552303, 736579.1114031723, 397384....</td>\n",
       "      <td>19.44</td>\n",
       "    </tr>\n",
       "    <tr>\n",
       "      <th>4</th>\n",
       "      <td>245519575</td>\n",
       "      <td>5016718667</td>\n",
       "      <td>LINESTRING (397384.215 736639.407, 397399.075 ...</td>\n",
       "      <td>250.299</td>\n",
       "      <td>secondary</td>\n",
       "      <td>(397384.2154834146, 736398.5668867913, 397435....</td>\n",
       "      <td>19.44</td>\n",
       "    </tr>\n",
       "  </tbody>\n",
       "</table>\n",
       "</div>"
      ],
      "text/plain": [
       "        from          to                                           geometry  \\\n",
       "0  245519560   245519575  LINESTRING (397331.136 736776.325, 397342.285 ...   \n",
       "1  245519560  5176906299  LINESTRING (397331.136 736776.325, 397322.799 ...   \n",
       "2  245519560  7448531613  LINESTRING (397331.136 736776.325, 397292.662 ...   \n",
       "3  245519575   245519579  LINESTRING (397384.215 736639.407, 397347.099 ...   \n",
       "4  245519575  5016718667  LINESTRING (397384.215 736639.407, 397399.075 ...   \n",
       "\n",
       "    length      highway                                               bbox  \\\n",
       "0  148.019    secondary  (397331.1361488708, 736639.4074819647, 397384....   \n",
       "1   60.641    secondary  (397315.4396285781, 736776.3248419286, 397331....   \n",
       "2  164.582  residential  (397200.6379563609, 736692.2725808757, 397331....   \n",
       "3  228.132    secondary  (397165.2158552303, 736579.1114031723, 397384....   \n",
       "4  250.299    secondary  (397384.2154834146, 736398.5668867913, 397435....   \n",
       "\n",
       "   max speed  \n",
       "0      19.44  \n",
       "1      19.44  \n",
       "2      13.89  \n",
       "3      19.44  \n",
       "4      19.44  "
      ]
     },
     "execution_count": 19,
     "metadata": {},
     "output_type": "execute_result"
    }
   ],
   "source": [
    "def get_max_speed(highway):\n",
    "    '''\n",
    "    return the corresponding max speed in kmph \n",
    "    '''\n",
    "    if highway == 'mortorway':\n",
    "        return 27.78\n",
    "    elif highway == 'mortorway_link':\n",
    "        return 16.67\n",
    "    elif highway == 'trunk':\n",
    "        return 19.44\n",
    "    elif highway == 'trunk_link':\n",
    "        return 13.89\n",
    "    elif highway == 'primary':\n",
    "        return 19.44\n",
    "    elif highway == 'primary_link':\n",
    "        return 13.89\n",
    "    elif highway == 'secondary':\n",
    "        return 19.44\n",
    "    elif highway == 'secondary_link':\n",
    "        return 13.89\n",
    "    elif highway == 'residential':\n",
    "        return 13.89\n",
    "    elif highway == 'teritiary':\n",
    "        return 19.44\n",
    "    elif highway == 'teritiary_link':\n",
    "        return 13.89\n",
    "    elif highway == 'living_street':\n",
    "        return 5.55\n",
    "    elif highway == 'road':\n",
    "        return 5.55\n",
    "    elif highway == 'service':\n",
    "        return 5.55\n",
    "    else:\n",
    "        return 13.89\n",
    "        \n",
    "    \n",
    "def get_max_speeds(gpd_edges_utm):\n",
    "    max_speeds = []\n",
    "    for idx, row in gpd_edges_utm.iterrows():\n",
    "        if isinstance(row['highway'], list):\n",
    "            max_speed1 = get_max_speed(row['highway'][0])\n",
    "            max_speed2 = get_max_speed(row['highway'][1])\n",
    "            if row['length'] > 100:\n",
    "                max_speed = max(max_speed1, max_speed2)\n",
    "                max_speeds.append(max_speed)\n",
    "            else:\n",
    "                max_speed = min(max_speed1, max_speed2)\n",
    "                max_speeds.append(max_speed)\n",
    "        else:\n",
    "            max_speeds.append(get_max_speed(row['highway']))\n",
    "    return max_speeds\n",
    "\n",
    "\n",
    "max_speeds = get_max_speeds(gpd_edges_utm)\n",
    "gpd_edges_utm['max speed'] = max_speeds\n",
    "gpd_edges_utm.head()"
   ]
  },
  {
   "cell_type": "markdown",
   "metadata": {},
   "source": [
    "# Step2: Load Trajectory"
   ]
  },
  {
   "cell_type": "code",
   "execution_count": 20,
   "metadata": {},
   "outputs": [],
   "source": [
    "def read_trip(filename):\n",
    "    import pandas as pd\n",
    "    import geopandas as gpd\n",
    "    from shapely.geometry import Point\n",
    "    col_names = ['Unnamed: 0', 'driver_id', 'timestamp','latitude','longtitude','time','tripid']\n",
    "    trip = pd.read_csv(filename, header=None, names=col_names)\n",
    "    trip.drop(['Unnamed: 0','driver_id'], axis=1, inplace=True)\n",
    "    trip['geometry'] = trip.apply(lambda z: Point(z.longtitude, z.latitude), axis=1)\n",
    "    trip = gpd.GeoDataFrame(trip)\n",
    "    return trip\n",
    "\n",
    "### coordinate transformation\n",
    "def transform_coordinates(point, crs, to_crs):\n",
    "    import osmnx as ox\n",
    "    #return ox.project_geometry(point, crs=None, to_crs=None, to_latlong=False)\n",
    "    return ox.projection.project_geometry(point,crs=crs, to_crs=to_crs)[0]"
   ]
  },
  {
   "cell_type": "code",
   "execution_count": 21,
   "metadata": {},
   "outputs": [],
   "source": [
    "import pandas as pd"
   ]
  },
  {
   "cell_type": "raw",
   "metadata": {},
   "source": [
    "# trip_folder = 'D:/MapMatchingPython/data/trips'\n",
    "#trip_file = trip_folder + '/trip_0.txt'\n",
    "#trip_file = \"C:/Users/Dilani/Desktop/MM/182206535.txt\"\n",
    "trip = read_trip(\"C:/Users/P.Thukaraka/Desktop/drivers_trip/910d26c1e71d01526f727c8d9d24f5318f152bb288d307c0b90cba2c10291660/188890164.txt\")\n",
    "# coordinate transformation\n",
    "trip.head()"
   ]
  },
  {
   "cell_type": "raw",
   "metadata": {},
   "source": [
    "trip.info()"
   ]
  },
  {
   "cell_type": "raw",
   "metadata": {},
   "source": [
    "crs = road_graph.graph['crs']\n",
    "to_crs = road_graph_utm.graph['crs']\n",
    "trip['geometry_utm'] = trip.apply(lambda row: transform_coordinates(row['geometry'], crs, to_crs), axis=1)\n",
    "trip.head()"
   ]
  },
  {
   "cell_type": "markdown",
   "metadata": {},
   "source": [
    "# Step3: Query candidates"
   ]
  },
  {
   "cell_type": "markdown",
   "metadata": {},
   "source": [
    "### Step3.1: Build R-tree Index for Road Network"
   ]
  },
  {
   "cell_type": "code",
   "execution_count": 22,
   "metadata": {},
   "outputs": [],
   "source": [
    "def build_rtree_index_edges(gpd_edges):\n",
    "    '''\n",
    "    build a r-tree index for road segments\n",
    "    input:\n",
    "        gpd_edges: a geopandas dataframe that contains road segments (edge geometries)\n",
    "    output:\n",
    "        idx: a r-tree index of the edge geometries\n",
    "    '''\n",
    "    # r-tree index for edges\n",
    "    from rtree import index\n",
    "    p = index.Property()\n",
    "    idx = index.Index(properties=p)\n",
    "    for index, row in gpd_edges.iterrows():\n",
    "        idx.insert(index, row['bbox'], obj=row)\n",
    "    return idx\n",
    "\n",
    "edge_idx = build_rtree_index_edges(gpd_edges_utm)"
   ]
  },
  {
   "cell_type": "markdown",
   "metadata": {},
   "source": [
    "### Step3.2 Query"
   ]
  },
  {
   "cell_type": "code",
   "execution_count": 23,
   "metadata": {},
   "outputs": [],
   "source": [
    "def query_k_nearest_road_segments(edge_idx, point, k):\n",
    "    from shapely.geometry import Point, LineString\n",
    "    from shapely.ops import nearest_points\n",
    "    import pandas as pd\n",
    "    '''\n",
    "    query k-nearest road segments of a given point\n",
    "    :param edge_idx: the road segments r-tree index\n",
    "    :param point: the given point\n",
    "    :param k: the number of segments needed to query\n",
    "    :return: k candidates as a pandas DataFrame\n",
    "    '''\n",
    "    candidates = pd.DataFrame(columns=('distance', 'from', 'to', 'proj_point', 'road','highway'))\n",
    "    hits = edge_idx.nearest((point.x, point.y, point.x, point.y), k, objects=True)\n",
    "    for item in hits:\n",
    "        results = nearest_points(point, item.object['geometry'])\n",
    "        d = point.distance(results[1])\n",
    "        s = pd.Series({'distance':d,\n",
    "                       'from':item.object['from'], \n",
    "                       'to':item.object['to'], \n",
    "                       'proj_point':results[1],\n",
    "                      'road':item.object,\n",
    "                      'highway':item.object['highway']\n",
    "                       })\n",
    "        candidates = candidates.append(s, ignore_index=True)\n",
    "    #candidates['observation prob'] = candidates.apply(lambda row: normal_distribution())\n",
    "    candidates.sort_values(by='distance', axis=0, inplace=True)\n",
    "    return candidates\n",
    "\n",
    "\n",
    "def find_candidates(trip, road_idx, k):\n",
    "    '''\n",
    "    given a trip, find candidates points for each point in the trip\n",
    "    :param trip: a GPS trajectory (without coordinates transform)\n",
    "    :param road_idx: road segments r-tree index of the corresponding road network\n",
    "    :param k: the number of candidates\n",
    "    :return: the trip with candidates\n",
    "    '''\n",
    "    candi_list = []\n",
    "    #point_list = []\n",
    "    #crs = road_graph.graph['crs']\n",
    "    #to_crs = road_graph_utm.graph['crs']\n",
    "    for i in range(0, len(trip)):\n",
    "        #candidates = []\n",
    "        #point_utm = ox.project_geometry(trip.iloc[i]['geometry'], crs=crs, to_crs=to_crs)[0]\n",
    "        #point_list.append(point_utm)\n",
    "        candidates = query_k_nearest_road_segments(edge_idx, trip.iloc[i]['geometry_utm'], k)\n",
    "        \n",
    "        candi_list.append(candidates)\n",
    "    trip['candidates'] = candi_list\n",
    "    #print(candi_list[0])\n",
    "    #trip['geometry_utm'] = point_list\n",
    "    #return trip"
   ]
  },
  {
   "cell_type": "raw",
   "metadata": {},
   "source": [
    "k = 3\n",
    "find_candidates(trip, edge_idx, k)\n",
    "#trip.head()"
   ]
  },
  {
   "cell_type": "markdown",
   "metadata": {},
   "source": [
    "# Step 4: HMM based Map Matching"
   ]
  },
  {
   "cell_type": "markdown",
   "metadata": {},
   "source": [
    "### Step 4.1 Measurement Probabilities"
   ]
  },
  {
   "cell_type": "code",
   "execution_count": 24,
   "metadata": {},
   "outputs": [],
   "source": [
    "def normal_distribution(mu, sigma, x):\n",
    "    '''\n",
    "    calculate normal distribution values\n",
    "    input:\n",
    "    mu: the mean value\n",
    "    sigma; the standard deviation\n",
    "    x: the given variables\n",
    "    output:\n",
    "    the probabilities of given input variables x\n",
    "    '''\n",
    "    import numpy as np\n",
    "    return 1.0/(sigma * np.sqrt(2*np.pi)) * ( np.exp(-1.0 * (np.array(x)-mu)**2 / (2 * sigma**2)) )\n",
    "\n",
    "#x = [10,20,30,40,50]\n",
    "#mu = 0\n",
    "#sigma = 20\n",
    "#normal_distribution(mu,sigma,x)\n",
    "def calculate_observation_probability(trip, mu, sigma):\n",
    "    for i in range(len(trip)):\n",
    "        trip.iloc[i]['candidates']['observation prob']=trip.iloc[i]['candidates'].apply(\n",
    "            lambda row: normal_distribution(mu,sigma,row['distance']), \n",
    "            axis=1)"
   ]
  },
  {
   "cell_type": "raw",
   "metadata": {},
   "source": [
    "mu = 0\n",
    "sigma = 10\n",
    "calculate_observation_probability(trip, mu, sigma)\n",
    "trip.iloc[2]['candidates']"
   ]
  },
  {
   "cell_type": "markdown",
   "metadata": {},
   "source": [
    "### Step 4.2: Transition Probabilities"
   ]
  },
  {
   "cell_type": "code",
   "execution_count": 25,
   "metadata": {},
   "outputs": [],
   "source": [
    "def get_edge_info(gpd_edges_utm, from_id, to_id):\n",
    "    results = gpd_edges_utm[(gpd_edges_utm['from']==from_id) & (gpd_edges_utm['to']==to_id)]\n",
    "    if len(results) > 1:\n",
    "        if results.iloc[0]['length']<results.iloc[1]['length']:\n",
    "            return results.iloc[0]\n",
    "        else:\n",
    "            return results.iloc[1]\n",
    "    else:\n",
    "        return results.iloc[0]\n",
    "\n",
    "def network_distance(raod_graph_utm, gpd_edges_utm, candidate1, candidate2):\n",
    "    import networkx as nx\n",
    "    '''\n",
    "    calculate network distance between two candidates\n",
    "    input:\n",
    "    G: the road network\n",
    "    candidate1: a candidate (from, to, proj_point, distance) represents as a pandas series \n",
    "    candidate2: a candidate (from, to, proj_point, distance) represents as a pandas series\n",
    "    output:\n",
    "    the shortest path distance between the given two candidates\n",
    "    '''\n",
    "    d = 0\n",
    "    sp_edges = []\n",
    "    p1 = candidate1['proj_point']\n",
    "    #edge1 = road_graph_utm[candidate1['from']][candidate1['to']][0]\n",
    "    edge1 = candidate1['road']\n",
    "    p2 = candidate2['proj_point']\n",
    "    #edge2 = road_graph_utm[candidate2['from']][candidate2['to']][0]\n",
    "    edge2 = candidate2['road']\n",
    "    #if (candidate1['from'] == candidate2['from'] & candidate1['to'] == candidate2['to']):\n",
    "    if edge1['geometry'] == edge2['geometry']:\n",
    "        # part 2 of the distance from the projected point of candidate1 to the end point of the corresponding edge\n",
    "        d2 = edge1['geometry'].project(p1)\n",
    "        # part 3 of the distance from the start point of the corresponding edge to the projected candidate2\n",
    "        d3 = edge2['geometry'].project(p2)\n",
    "        d = d3-d2\n",
    "        if d<0: d = 0\n",
    "        sp_edges.append(edge1)\n",
    "        #print('case1')\n",
    "        #print d2, d3\n",
    "        #if d<0: print 'case1'\n",
    "    elif candidate1['to'] == candidate2['from']:\n",
    "        # part 2 of the distance from the projected point of candidate1 to the end point of the corresponding edge\n",
    "        d2 = edge1['length'] - edge1['geometry'].project(p1)\n",
    "        # part 3 of the distance from the start point of the corresponding edge to the projected candidate2\n",
    "        d3 = edge2['geometry'].project(p2)   \n",
    "        d = d2+d3\n",
    "        sp_edges.append(edge1)\n",
    "        sp_edges.append(edge2)\n",
    "        #print('case2')\n",
    "        #print d2, d3\n",
    "        #if d<0: \n",
    "        #    print 'case2'\n",
    "        #    print d2\n",
    "        #    print d3\n",
    "    else:\n",
    "        # part 1 of the distance \n",
    "        source = candidate1['to']\n",
    "        target = candidate2['from']\n",
    "        try:\n",
    "            d1 = nx.shortest_path_length(road_graph_utm, source, target, weight='length')\n",
    "            sp = nx.shortest_path(road_graph_utm, source, target, weight='length')\n",
    "        except Exception as err:\n",
    "            print (err)\n",
    "            d = 100000000\n",
    "        else:            \n",
    "            # part 2 of the distance from the projected point of candidate1 to the end point of the corresponding edge\n",
    "            d2 = edge1['length'] - edge1['geometry'].project(p1)\n",
    "            # part 3 of the distance from the start point of the corresponding edge to the projected candidate2\n",
    "            d3 = edge2['geometry'].project(p2)\n",
    "            d = d1+d2+d3\n",
    "            if d1 > 0 :\n",
    "                sp_edges.append(edge1)\n",
    "            for i in range(len(sp)-1):\n",
    "                sp_edges.append(get_edge_info(gpd_edges_utm,sp[i],sp[i+1]))\n",
    "            if d2 > 0 :\n",
    "                sp_edges.append(edge2)\n",
    "            #print('case1')\n",
    "            #print d1, d2, d3\n",
    "            #if d<0:print 'case3'            \n",
    "        #if d < 0:\n",
    "        #    print(candidate1, candidate2)\n",
    "    return d,sp_edges\n",
    "\n",
    "def calculate_transition_probability(beta, gc_distance, sp_distance):\n",
    "    import math\n",
    "    diff = abs(gc_distance-sp_distance)\n",
    "    return math.exp(-diff/beta) / beta\n",
    "\n",
    "def calculate_weights_between_candidates(road_graph_utm, gpd_edges_utm, trip, idx, beta):\n",
    "    '''\n",
    "    calculate weights between the idx-1 and the idx th points's candidates\n",
    "    input:\n",
    "    idx: the idx-th sampling point (idx > 0)\n",
    "    '''\n",
    "    import pandas as pd\n",
    "    # the great circle distance (euclidean distance) between the idx-1 and the idx-th sampling points\n",
    "    great_circle_distance = trip.iloc[idx]['geometry_utm'].distance(trip.iloc[idx-1]['geometry_utm'])\n",
    "    #print great_circle_distance\n",
    "    # the time gap between the idx-1 and the idx-th sampling points \n",
    "    delta = trip.iloc[idx]['timestamp'] - trip.iloc[idx-1]['timestamp']\n",
    "    weights_list = []\n",
    "    for i in range(len(trip.iloc[idx]['candidates'])):\n",
    "        weights = pd.DataFrame(columns=('from_id','to_id', 'sp distance', 'gc distance',  \n",
    "                                        'sp edges', 'transition prob'))  \n",
    "        for j in range(len(trip.iloc[idx-1]['candidates'])):\n",
    "            sp_distance,sp_edges = network_distance(road_graph_utm,\n",
    "                                           gpd_edges_utm,\n",
    "                                           trip.iloc[idx-1]['candidates'].iloc[j],\n",
    "                                           trip.iloc[idx]['candidates'].iloc[i])\n",
    "            # transmission probility\n",
    "            t_p = calculate_transition_probability(beta, great_circle_distance, sp_distance)\n",
    "            s = pd.Series({'from_id':j,\n",
    "                           'to_id':i,\n",
    "                           'sp distance':sp_distance, \n",
    "                           'gc distance':great_circle_distance, \n",
    "                           'sp edges': sp_edges, \n",
    "                           'transition prob': t_p})\n",
    "            weights = weights.append(s, ignore_index=True)\n",
    "            weights[['from_id','to_id']] = weights[['from_id','to_id']].astype(int)\n",
    "        weights_list.append(weights)\n",
    "    return weights_list"
   ]
  },
  {
   "cell_type": "markdown",
   "metadata": {},
   "source": [
    "### Step 4.3: Optimal Path"
   ]
  },
  {
   "cell_type": "code",
   "execution_count": 26,
   "metadata": {},
   "outputs": [],
   "source": [
    "# find the optimal path viterbi algorithm\n",
    "def find_optimal_candidates(road_graph_utm, gpd_edges_utm, trip, beta):\n",
    "    # forward search\n",
    "    f=[]\n",
    "    import math\n",
    "    #f = [list(trip.iloc[0]['candidates'].apply(lambda x: math.log(x['observation prob']), axis=1))]\n",
    "    f.append((trip.iloc[0]['candidates']['observation prob']))\n",
    "    pre = []\n",
    "    pre.append([])\n",
    "    weights = []\n",
    "    weights.append([])\n",
    "    for i in range(1, len(trip)):\n",
    "        f_i = []\n",
    "        pre_i = []\n",
    "        weights_list = calculate_weights_between_candidates(road_graph_utm, gpd_edges_utm, trip, i, beta)\n",
    "        for k in range(len(weights_list)):\n",
    "            f_sum = []\n",
    "            for j in range(len(weights_list[k]['transition prob'])):\n",
    "                from_id = weights_list[k].iloc[j]['from_id']\n",
    "                #f_sum.append(f[-1][from_id]*weights_list[k].iloc[j]['transition prob']) \n",
    "                f_sum.append(f[-1][from_id]+ math.log(weights_list[k].iloc[j]['transition prob']))\n",
    "            #print(f_sum)\n",
    "            weights_list[k]['weight_sum'] = f_sum\n",
    "            pre_i.append(f_sum.index(max(f_sum)))\n",
    "            f_i.append(max(f_sum)*trip.iloc[i]['candidates']['observation prob'].iloc[k])\n",
    "            #f_i.append(max(f_sum)+ math.log(trip.iloc[i]['candidates']['observation prob'].iloc[k]))\n",
    "        f.append(f_i)\n",
    "        pre.append(pre_i)\n",
    "        weights.append(weights_list)\n",
    "        #print(i, f_i)\n",
    "        #print(i, pre_i)\n",
    "    # backward search\n",
    "    rlist=[]\n",
    "    c = f[-1].index(max(f[-1]))\n",
    "    rlist.append(c)\n",
    "    for i in range( len(pre) - 1, 0, -1):\n",
    "        c = pre[i][c]\n",
    "        rlist.insert(0,c)\n",
    "    #print (rlist)\n",
    "    trip['weights'] = weights\n",
    "    trip['optimal candidate'] = rlist"
   ]
  },
  {
   "cell_type": "raw",
   "metadata": {},
   "source": [
    "#opt_id_list = find_optimal_path(road_graph_utm, gpd_edges_utm, trip)\n",
    "beta = 100\n",
    "find_optimal_candidates(road_graph_utm, gpd_edges_utm, trip, beta)\n",
    "trip.head()"
   ]
  },
  {
   "cell_type": "code",
   "execution_count": 27,
   "metadata": {},
   "outputs": [],
   "source": [
    "import pyproj\n",
    "import utm\n",
    "import geopandas as gpd\n",
    "def utm_to_latlon(coordinates,Zone_number,Zone_letter):\n",
    "    easting=coordinates[0]\n",
    "    northing=coordinates[1]\n",
    "    return utm.to_latlon(easting,northing,Zone_number,Zone_letter)"
   ]
  },
  {
   "cell_type": "raw",
   "metadata": {},
   "source": [
    "trip['optimal']=\"\"\n",
    "trip['highway']=\"\"\n",
    "trip['vehicle_model']=''"
   ]
  },
  {
   "cell_type": "code",
   "execution_count": 28,
   "metadata": {},
   "outputs": [],
   "source": [
    "\n",
    "def find_optimal_mapping_points(trip, vehicle_model):\n",
    "    import geopandas as gpd\n",
    "    points = []\n",
    "    idxs = trip['optimal candidate']\n",
    "    candidates = trip['candidates']\n",
    "    for i in range(len(trip)):\n",
    "        idx = idxs.iloc[i]\n",
    "       # print (idx)\n",
    "        #print (candidates.iloc[i].iloc[idx]['proj_point'])\n",
    "        points.append(candidates.iloc[i].iloc[idx]['proj_point'])\n",
    "        trip['optimal'].iloc[i]=candidates.iloc[i].iloc[idx]['proj_point']\n",
    "       # print(trip['optimal'])\n",
    "        trip['highway'].iloc[i]=candidates.iloc[i].iloc[idx]['highway']\n",
    "        trip['vehicle_model'].iloc[i] = vehicle_model\n",
    "        \n",
    "    return gpd.GeoSeries(points)\n",
    "\n",
    "#opt_proj_points = find_optimal_mapping_points(trip)\n",
    "#opt_proj_points.plot()\n",
    "\n",
    "\n",
    "def find_optimal_path(trip, debug = False):\n",
    "    edge_list=[]\n",
    "    idxs = trip['optimal candidate']    \n",
    "    for i in range(1,len(trip)):\n",
    "        weights = trip['weights'].iloc[i]\n",
    "        to_id = idxs.iloc[i]\n",
    "        from_id = idxs.iloc[i-1]\n",
    "        sub_edge_list = weights[to_id]['sp edges'].iloc[from_id]\n",
    "        #if len(edge_list)>0:\n",
    "        #    if edge_list[-1]['geometry'] != sub_edge_list[0]['geometry']:\n",
    "        #        print 'path broken!'\n",
    "        #if debug: print (i)\n",
    "        for j in range(len(sub_edge_list)-1):\n",
    "            edge_list.append(sub_edge_list[j])\n",
    "           # if debug: print (sub_edge_list[j]['from'], sub_edge_list[j]['to'])\n",
    "        if i==len(trip)-1:\n",
    "            edge_list.append(sub_edge_list[-1])\n",
    "           # if debug: print (sub_edge_list[-1]['from'], sub_edge_list[-1]['to'])\n",
    "    return edge_list"
   ]
  },
  {
   "cell_type": "raw",
   "metadata": {},
   "source": [
    "edge_path = find_optimal_path(trip, debug=True)"
   ]
  },
  {
   "cell_type": "raw",
   "metadata": {},
   "source": [
    "find_optimal_mapping_points(trip,\"1\")"
   ]
  },
  {
   "cell_type": "raw",
   "metadata": {},
   "source": [
    "trip.info()"
   ]
  },
  {
   "cell_type": "raw",
   "metadata": {},
   "source": [
    "import ast\n",
    "import datetime\n",
    "for i in (trip.index):\n",
    "      if '[' in (trip[\"highway\"].iloc[i]):\n",
    "         x=trip[\"highway\"].iloc[i]\n",
    "         x = ast.literal_eval(x)\n",
    "         x = [n.strip() for n in x]\n",
    "         trip[\"highway\"].iloc[i]=x[0]\n",
    "         #print(trip[\"highway\"].iloc[i])\n",
    "      else:\n",
    "         trip[\"highway\"].iloc[i]=trip[\"highway\"].iloc[i]\n",
    "         print(trip[\"highway\"].iloc[i])\n",
    "d=0\n",
    "exceed=0\n",
    "for i in range (len(trip.index)-1):\n",
    "    list1=[]\n",
    "    list2=[]\n",
    "    if  trip[\"highway\"].iloc[i]==trip[\"highway\"].iloc[i+1]: \n",
    "        list1.append(trip[\"optimal\"].iloc[i].x)\n",
    "        list1.append(trip[\"optimal\"].iloc[i].y)\n",
    "        list2.append(trip[\"optimal\"].iloc[i+1].x)\n",
    "        list2.append(trip[\"optimal\"].iloc[i+1].y)\n",
    "        coor1=utm_to_latlon(list1,44,\"N\")\n",
    "        coor2=utm_to_latlon(list2,44,\"N\")\n",
    "        print(coor1)\n",
    "        print(coor2)\n",
    "        dis=ox.distance.great_circle_vec(coor1[0], coor1[1],coor2[0], coor2[1], earth_radius=6371009)   \n",
    "        time1 = datetime.datetime.fromtimestamp(trip[\"timestamp\"].iloc[i])\n",
    "        time2 = datetime.datetime.fromtimestamp(trip[\"timestamp\"].iloc[i+1])\n",
    "        interval= (time2-time1).total_seconds()\n",
    "        instantaneous_spd=dis/interval\n",
    "        print(instantaneous_spd)\n",
    "        d=d+dis\n",
    "        if trip[\"vehicle_model\"].iloc[i]==\"1\":\n",
    "            if instantaneous_spd > 11.11:\n",
    "                exceed= exceed+1\n",
    "                print(\"hi\")\n",
    "    else:\n",
    "        list1.append(trip[\"optimal\"].iloc[i].x)\n",
    "        list1.append(trip[\"optimal\"].iloc[i].y)\n",
    "        list2.append(trip[\"optimal\"].iloc[i+1].x)\n",
    "        list2.append(trip[\"optimal\"].iloc[i+1].y)\n",
    "        coor1=utm_to_latlon(list1,44,\"N\")\n",
    "        coor2=utm_to_latlon(list2,44,\"N\")\n",
    "        print(coor1)\n",
    "        print(coor2)\n",
    "        dis=ox.distance.great_circle_vec(coor1[0], coor1[1],coor2[0], coor2[1], earth_radius=6371009)   \n",
    "        time1 = datetime.datetime.fromtimestamp(trip[\"timestamp\"].iloc[i])\n",
    "        time2 = datetime.datetime.fromtimestamp(trip[\"timestamp\"].iloc[i+1])\n",
    "        interval= (time2-time1).total_seconds()\n",
    "        instantaneous_spd=dis/interval \n",
    "        print(instantaneous_spd)\n",
    "        d=d+dis\n",
    "        if trip[\"vehicle_model\"].iloc[i]==\"1\":\n",
    "            if instantaneous_spd > 11.11:\n",
    "                exceed= exceed+1\n",
    "                \n",
    "      \n",
    "print(exceed) \n",
    "print(d)"
   ]
  },
  {
   "cell_type": "code",
   "execution_count": 29,
   "metadata": {},
   "outputs": [],
   "source": [
    "k = 3\n",
    "mu = 0\n",
    "sigma = 10\n",
    "beta = 100"
   ]
  },
  {
   "cell_type": "code",
   "execution_count": 30,
   "metadata": {},
   "outputs": [],
   "source": [
    "import ast\n",
    "import datetime"
   ]
  },
  {
   "cell_type": "markdown",
   "metadata": {},
   "source": [
    "# highway types for points"
   ]
  },
  {
   "cell_type": "code",
   "execution_count": 31,
   "metadata": {},
   "outputs": [],
   "source": [
    "def highway(df):\n",
    "    for i in (df.index):\n",
    "        if '[' in (df[\"highway\"].iloc[i]):\n",
    "             x=df[\"highway\"].iloc[i]\n",
    "             x = ast.literal_eval(x)\n",
    "             x = [n.strip() for n in x]\n",
    "             df[\"highway\"].iloc[i]=x[0]\n",
    "             #print(trip[\"highway\"].iloc[i])\n",
    "        else:\n",
    "             df[\"highway\"].iloc[i]=df[\"highway\"].iloc[i]\n",
    "    return df\n",
    "    "
   ]
  },
  {
   "cell_type": "markdown",
   "metadata": {},
   "source": [
    "# speed limit exceeds"
   ]
  },
  {
   "cell_type": "code",
   "execution_count": 32,
   "metadata": {},
   "outputs": [],
   "source": [
    "def exceed(df,driver_id,vehicle_model): \n",
    "    d=0\n",
    "    sum_slvi=0\n",
    "    exceed=0\n",
    "    total_duration=0\n",
    "    for i in range (len(df.index)-1):\n",
    "            \n",
    "            list1=[]\n",
    "            list2=[]\n",
    "            if  df[\"highway\"].iloc[i]==df[\"highway\"].iloc[i+1]: \n",
    "                list1.append(df[\"optimal\"].iloc[i].x)\n",
    "                list1.append(df[\"optimal\"].iloc[i].y)\n",
    "                list2.append(df[\"optimal\"].iloc[i+1].x)\n",
    "                list2.append(df[\"optimal\"].iloc[i+1].y)\n",
    "                coor1=utm_to_latlon(list1,44,\"N\")\n",
    "                coor2=utm_to_latlon(list2,44,\"N\")\n",
    "                dis=ox.distance.great_circle_vec(coor1[0], coor1[1],coor2[0], coor2[1], earth_radius=6371009)   \n",
    "                time1 = datetime.datetime.fromtimestamp(df[\"timestamp\"].iloc[i])\n",
    "                time2 = datetime.datetime.fromtimestamp(df[\"timestamp\"].iloc[i+1])\n",
    "                interval= (time2-time1).total_seconds()\n",
    "                instantaneous_spd=dis/interval\n",
    "                total_duration=total_duration+interval\n",
    "                #print(instantaneous_spd)\n",
    "                d=d+dis\n",
    "                if (df[\"vehicle_model\"].iloc[i])==\"1\":\n",
    "                    sum_slvi = sum_slvi+ (SLVI(instantaneous_spd ,df[\"vehicle_model\"].iloc[i],11.11)*dis)\n",
    "                    if (instantaneous_spd > 11.11):\n",
    "                        exceed= exceed+1\n",
    "                else:\n",
    "                   # print(get_max_speed(df[\"highway\"].iloc[i]))\n",
    "                   # print(df[\"highway\"].iloc[i])\n",
    "                   # print(get_max_speed(df[\"highway\"].iloc[i+1]))\n",
    "                   # print(df[\"highway\"].iloc[i+1])\n",
    "                    max_speed=(get_max_speed(df[\"highway\"].iloc[i]))\n",
    "                   # print(max_speed)\n",
    "                    sum_slvi = sum_slvi+(SLVI(instantaneous_spd ,df[\"vehicle_model\"].iloc[i],max_speed)*dis)\n",
    "                    if (instantaneous_spd > max_speed ):\n",
    "                         exceed= exceed+1\n",
    "                        \n",
    "                         \n",
    "            else:\n",
    "                   \n",
    "                    list1.append(df[\"optimal\"].iloc[i].x)\n",
    "                    list1.append(df[\"optimal\"].iloc[i].y)\n",
    "                    list2.append(df[\"optimal\"].iloc[i+1].x)\n",
    "                    list2.append(df[\"optimal\"].iloc[i+1].y)\n",
    "                    coor1=utm_to_latlon(list1,44,\"N\")\n",
    "                    coor2=utm_to_latlon(list2,44,\"N\")\n",
    "                    #print(coor1)\n",
    "                    #print(coor2)\n",
    "                    dis=ox.distance.great_circle_vec(coor1[0], coor1[1],coor2[0], coor2[1], earth_radius=6371009)   \n",
    "                    time1 = datetime.datetime.fromtimestamp(df[\"timestamp\"].iloc[i])\n",
    "                    time2 = datetime.datetime.fromtimestamp(df[\"timestamp\"].iloc[i+1])\n",
    "                    interval= (time2-time1).total_seconds()\n",
    "                    total_duration=total_duration+interval\n",
    "                    instantaneous_spd=dis/interval \n",
    "                   # print(instantaneous_spd)\n",
    "                    d=d+dis\n",
    "                    if (df[\"vehicle_model\"].iloc[i])==\"1\":\n",
    "                        sum_slvi = sum_slvi+(SLVI(instantaneous_spd ,df[\"vehicle_model\"].iloc[i],11.11)*dis)\n",
    "                        if instantaneous_spd > 11.11:\n",
    "                            exceed= exceed+1\n",
    "                    else:\n",
    "                       # print(get_max_speed(df[\"highway\"].iloc[i]))\n",
    "                       # print(get_max_speed(df[\"highway\"].iloc[i+1]))\n",
    "                              \n",
    "                        max_speed=(get_max_speed(df[\"highway\"].iloc[i])+ get_max_speed(df[\"highway\"].iloc[i+1]))/2\n",
    "                       # print(max_speed)\n",
    "                        sum_slvi = sum_slvi+(SLVI(instantaneous_spd ,df[\"vehicle_model\"].iloc[i],max_speed)*dis)\n",
    "                        if instantaneous_spd > max_speed:\n",
    "                             exceed= exceed+1\n",
    "    avg_sum_slvi=sum_slvi/d                         \n",
    "    #driver_slvi= pd.DataFrame(data, columns = ['driver_id','vehicle_model', 'distance','duration','slvi','segment','exceed'])\n",
    "    data = [{'driver_id': driver_id, 'vehicle_model': vehicle_model, 'distance':d,'duration': total_duration,'slvi':avg_sum_slvi,'segment':len(df.index)-1,'exceed':exceed}]\n",
    "    driver_slvi = pd.DataFrame(data)\n",
    "    return (driver_slvi)  \n",
    "        "
   ]
  },
  {
   "cell_type": "markdown",
   "metadata": {},
   "source": [
    "# calculating SLVI"
   ]
  },
  {
   "cell_type": "code",
   "execution_count": 33,
   "metadata": {},
   "outputs": [],
   "source": [
    "def SLVI(speed,vehicle_model,max_speed):\n",
    "    value=0\n",
    "    if vehicle_model=='1':\n",
    "        differ=speed-11.11\n",
    "        if differ<=0:\n",
    "            value=1\n",
    "        elif  0<((differ/speed)*100)<20:\n",
    "            value=1.5\n",
    "        elif 20<=((differ/speed)*100)<50:\n",
    "            value=3\n",
    "        elif 50<=((differ/speed)*100)<100:\n",
    "            value=5\n",
    "    else:\n",
    "        differ=speed-max_speed\n",
    "        if differ<=0:\n",
    "            value=1\n",
    "        elif  0<((differ/speed)*100)<20:\n",
    "            value=1.5\n",
    "        elif 20<=((differ/speed)*100)<50:\n",
    "            value=3\n",
    "        elif 50<=((differ/speed)*100)<100:\n",
    "            value=5\n",
    "        \n",
    "    return value\n",
    "    "
   ]
  },
  {
   "cell_type": "code",
   "execution_count": 42,
   "metadata": {},
   "outputs": [
    {
     "data": {
      "text/plain": [
       "'97541fa225fe02ddb1b3973c987fccc62fc64f90b93b71ba40211544e8f373dd'"
      ]
     },
     "execution_count": 42,
     "metadata": {},
     "output_type": "execute_result"
    }
   ],
   "source": [
    "import os\n",
    "entries = sorted(os.listdir('/home/huntersfyp17/py36/Notebooks/Trips/'))\n",
    "#entries=entries.sort()\n",
    "entries[689]"
   ]
  },
  {
   "cell_type": "code",
   "execution_count": 35,
   "metadata": {},
   "outputs": [],
   "source": [
    "a=pd.read_csv(\"/home/huntersfyp17/py36/MapMatching/drivers_SlVI/driver_slvi_final.csv\")"
   ]
  },
  {
   "cell_type": "code",
   "execution_count": 36,
   "metadata": {},
   "outputs": [],
   "source": [
    "a=a.drop(0)\n",
    "del a[\"Unnamed: 0\"]"
   ]
  },
  {
   "cell_type": "code",
   "execution_count": 37,
   "metadata": {},
   "outputs": [],
   "source": [
    "new_driver=[]\n",
    "for j in entries:\n",
    "    if j not in list(a.driver):\n",
    "        new_driver.append(j)"
   ]
  },
  {
   "cell_type": "code",
   "execution_count": 38,
   "metadata": {},
   "outputs": [
    {
     "data": {
      "text/plain": [
       "['00ce195f11cfa5d5e228095893a866e2ec79cf3aa1c423d869485a5d06226872']"
      ]
     },
     "execution_count": 38,
     "metadata": {},
     "output_type": "execute_result"
    }
   ],
   "source": [
    "new_driver"
   ]
  },
  {
   "cell_type": "code",
   "execution_count": 39,
   "metadata": {},
   "outputs": [],
   "source": [
    "loc='/home/huntersfyp17/py36/Notebooks/Trips/0927d46c017c7e2429fa50171a05fe9661729dbda3f9074688719d0acae93a84/'\n",
    "files=os.listdir(loc)"
   ]
  },
  {
   "cell_type": "code",
   "execution_count": 40,
   "metadata": {},
   "outputs": [
    {
     "name": "stdout",
     "output_type": "stream",
     "text": [
      "198107245.txt\n"
     ]
    }
   ],
   "source": [
    "print(files[38])"
   ]
  },
  {
   "cell_type": "code",
   "execution_count": 32,
   "metadata": {
    "scrolled": true
   },
   "outputs": [
    {
     "name": "stdout",
     "output_type": "stream",
     "text": [
      "driver entry = 650\n",
      "number of files = 38\n",
      "trip no = 0\n",
      "/home/huntersfyp17/py36/Notebooks/Trips/94cda1b40264819f90b3534f8c34a14fcfb310e6f30e509d8dea7380c7efae2a/181987491.txt\n"
     ]
    },
    {
     "name": "stderr",
     "output_type": "stream",
     "text": [
      "/usr/local/lib64/python3.6/site-packages/pandas/core/indexing.py:670: SettingWithCopyWarning: \n",
      "A value is trying to be set on a copy of a slice from a DataFrame\n",
      "\n",
      "See the caveats in the documentation: https://pandas.pydata.org/pandas-docs/stable/user_guide/indexing.html#returning-a-view-versus-a-copy\n",
      "  iloc._setitem_with_indexer(indexer, value)\n"
     ]
    },
    {
     "ename": "NameError",
     "evalue": "name 'exceed' is not defined",
     "output_type": "error",
     "traceback": [
      "\u001b[0;31m---------------------------------------------------------------------------\u001b[0m",
      "\u001b[0;31mNameError\u001b[0m                                 Traceback (most recent call last)",
      "\u001b[0;32m<ipython-input-32-deda6c2673c1>\u001b[0m in \u001b[0;36m<module>\u001b[0;34m\u001b[0m\n\u001b[1;32m     39\u001b[0m             \u001b[0;31m#print(find_optimal_mapping_points(df,str(drivers[\"vehicle_model\"].iloc[index[0]])))\u001b[0m\u001b[0;34m\u001b[0m\u001b[0;34m\u001b[0m\u001b[0;34m\u001b[0m\u001b[0m\n\u001b[1;32m     40\u001b[0m             \u001b[0mhighway\u001b[0m\u001b[0;34m(\u001b[0m\u001b[0mdf\u001b[0m\u001b[0;34m)\u001b[0m\u001b[0;34m\u001b[0m\u001b[0;34m\u001b[0m\u001b[0m\n\u001b[0;32m---> 41\u001b[0;31m             \u001b[0mS\u001b[0m\u001b[0;34m=\u001b[0m\u001b[0mexceed\u001b[0m\u001b[0;34m(\u001b[0m\u001b[0mdf\u001b[0m\u001b[0;34m,\u001b[0m\u001b[0mentry\u001b[0m\u001b[0;34m,\u001b[0m\u001b[0mstr\u001b[0m\u001b[0;34m(\u001b[0m\u001b[0mdrivers\u001b[0m\u001b[0;34m[\u001b[0m\u001b[0;34m\"vehicle_model\"\u001b[0m\u001b[0;34m]\u001b[0m\u001b[0;34m.\u001b[0m\u001b[0miloc\u001b[0m\u001b[0;34m[\u001b[0m\u001b[0mindex\u001b[0m\u001b[0;34m[\u001b[0m\u001b[0;36m0\u001b[0m\u001b[0;34m]\u001b[0m\u001b[0;34m]\u001b[0m\u001b[0;34m)\u001b[0m\u001b[0;34m)\u001b[0m\u001b[0;34m\u001b[0m\u001b[0;34m\u001b[0m\u001b[0m\n\u001b[0m\u001b[1;32m     42\u001b[0m             \u001b[0mdata\u001b[0m\u001b[0;34m=\u001b[0m\u001b[0;34m{\u001b[0m\u001b[0;34m'driver_id'\u001b[0m\u001b[0;34m:\u001b[0m \u001b[0mS\u001b[0m\u001b[0;34m[\u001b[0m\u001b[0;34m'driver_id'\u001b[0m\u001b[0;34m]\u001b[0m\u001b[0;34m.\u001b[0m\u001b[0miloc\u001b[0m\u001b[0;34m[\u001b[0m\u001b[0;36m0\u001b[0m\u001b[0;34m]\u001b[0m\u001b[0;34m,\u001b[0m\u001b[0;34m'trip_id'\u001b[0m\u001b[0;34m:\u001b[0m\u001b[0mint\u001b[0m\u001b[0;34m(\u001b[0m\u001b[0mfile\u001b[0m\u001b[0;34m[\u001b[0m\u001b[0;36m0\u001b[0m\u001b[0;34m]\u001b[0m\u001b[0;34m)\u001b[0m\u001b[0;34m,\u001b[0m\u001b[0;34m'vehicle_model'\u001b[0m\u001b[0;34m:\u001b[0m \u001b[0mS\u001b[0m\u001b[0;34m[\u001b[0m\u001b[0;34m'vehicle_model'\u001b[0m\u001b[0;34m]\u001b[0m\u001b[0;34m.\u001b[0m\u001b[0miloc\u001b[0m\u001b[0;34m[\u001b[0m\u001b[0;36m0\u001b[0m\u001b[0;34m]\u001b[0m\u001b[0;34m,\u001b[0m \u001b[0;34m'distance'\u001b[0m\u001b[0;34m:\u001b[0m \u001b[0mS\u001b[0m\u001b[0;34m[\u001b[0m\u001b[0;34m'distance'\u001b[0m\u001b[0;34m]\u001b[0m\u001b[0;34m.\u001b[0m\u001b[0miloc\u001b[0m\u001b[0;34m[\u001b[0m\u001b[0;36m0\u001b[0m\u001b[0;34m]\u001b[0m\u001b[0;34m,\u001b[0m\u001b[0;34m'duration'\u001b[0m\u001b[0;34m:\u001b[0m\u001b[0mS\u001b[0m\u001b[0;34m[\u001b[0m\u001b[0;34m'duration'\u001b[0m\u001b[0;34m]\u001b[0m\u001b[0;34m.\u001b[0m\u001b[0miloc\u001b[0m\u001b[0;34m[\u001b[0m\u001b[0;36m0\u001b[0m\u001b[0;34m]\u001b[0m\u001b[0;34m,\u001b[0m\u001b[0;34m'slvi'\u001b[0m\u001b[0;34m:\u001b[0m\u001b[0mS\u001b[0m\u001b[0;34m[\u001b[0m\u001b[0;34m'slvi'\u001b[0m\u001b[0;34m]\u001b[0m\u001b[0;34m.\u001b[0m\u001b[0miloc\u001b[0m\u001b[0;34m[\u001b[0m\u001b[0;36m0\u001b[0m\u001b[0;34m]\u001b[0m\u001b[0;34m,\u001b[0m\u001b[0;34m'segment'\u001b[0m\u001b[0;34m:\u001b[0m\u001b[0mS\u001b[0m\u001b[0;34m[\u001b[0m\u001b[0;34m'segment'\u001b[0m\u001b[0;34m]\u001b[0m\u001b[0;34m.\u001b[0m\u001b[0miloc\u001b[0m\u001b[0;34m[\u001b[0m\u001b[0;36m0\u001b[0m\u001b[0;34m]\u001b[0m\u001b[0;34m,\u001b[0m\u001b[0;34m'exceed'\u001b[0m\u001b[0;34m:\u001b[0m\u001b[0mS\u001b[0m\u001b[0;34m[\u001b[0m\u001b[0;34m'exceed'\u001b[0m\u001b[0;34m]\u001b[0m\u001b[0;34m.\u001b[0m\u001b[0miloc\u001b[0m\u001b[0;34m[\u001b[0m\u001b[0;36m0\u001b[0m\u001b[0;34m]\u001b[0m\u001b[0;34m}\u001b[0m\u001b[0;34m\u001b[0m\u001b[0;34m\u001b[0m\u001b[0m\n\u001b[1;32m     43\u001b[0m             \u001b[0mfinal\u001b[0m\u001b[0;34m=\u001b[0m\u001b[0mfinal\u001b[0m\u001b[0;34m.\u001b[0m\u001b[0mappend\u001b[0m\u001b[0;34m(\u001b[0m\u001b[0mdata\u001b[0m\u001b[0;34m,\u001b[0m\u001b[0mignore_index\u001b[0m\u001b[0;34m=\u001b[0m\u001b[0;32mTrue\u001b[0m\u001b[0;34m)\u001b[0m\u001b[0;34m\u001b[0m\u001b[0;34m\u001b[0m\u001b[0m\n",
      "\u001b[0;31mNameError\u001b[0m: name 'exceed' is not defined"
     ]
    }
   ],
   "source": [
    "import os\n",
    "entries = sorted(os.listdir('/home/huntersfyp17/py36/Notebooks/Trips/'))\n",
    "\n",
    "count=650\n",
    "for entry in entries[679:700]:\n",
    "    print(\"driver entry = \"+str(count))\n",
    "    count+=1\n",
    "    final = pd.DataFrame( columns = ['driver_id','trip_id','vehicle_model', 'distance','duration','slvi','segment','exceed'])\n",
    "    loc='/home/huntersfyp17/py36/Notebooks/Trips/'+ entry+'/'\n",
    "    files=os.listdir(loc)\n",
    "    file_name='drivers_SlVI/new/'+entry+'.csv'\n",
    "    print('number of files = '+str(len(files)))\n",
    "    num=0\n",
    "    #Dataframe = pd.DataFrame( columns = ['driver_id', 'vehicle_model', 'distance','duration','slvi','segment','exceed'])\n",
    "    #inal=pd.DataFrame()\n",
    "    for file in files[5:10]:\n",
    "        print('trip no = '+str(num))\n",
    "        num+=1\n",
    "        file_loc= '/home/huntersfyp17/py36/Notebooks/Trips/'+ entry+'/' +file\n",
    "        file= file.split(\".\")\n",
    "        trip_id= file[0]\n",
    "        print(file_loc)\n",
    "        df=read_trip(file_loc)\n",
    "        df[\"vehicle_model\"]=''\n",
    "        index=drivers[drivers[\"driver_id\"]==entry].index.values\n",
    "        #df[\"vehicle_model\"]=drivers[\"vehicle_model\"].iloc[index[0]]\n",
    "        try:\n",
    "            crs = road_graph.graph['crs']\n",
    "            to_crs = road_graph_utm.graph['crs']\n",
    "            df['geometry_utm'] = df.apply(lambda row: transform_coordinates(row['geometry'], crs, to_crs), axis=1)\n",
    "            find_candidates(df, edge_idx, k)\n",
    "            calculate_observation_probability(df, mu, sigma)\n",
    "            find_optimal_candidates(road_graph_utm, gpd_edges_utm, df, beta)\n",
    "            df['optimal']=\"\"\n",
    "            df['highway']=\"\"\n",
    "            find_optimal_path(df, debug=True)\n",
    "            #print(str(drivers[\"vehicle_model\"].iloc[index[0]]))\n",
    "            find_optimal_mapping_points(df,str(drivers[\"vehicle_model\"].iloc[index[0]])) \n",
    "            #print(find_optimal_mapping_points(df,str(drivers[\"vehicle_model\"].iloc[index[0]])))\n",
    "            highway(df)\n",
    "            S=exceed(df,entry,str(drivers[\"vehicle_model\"].iloc[index[0]]))\n",
    "            data={'driver_id': S['driver_id'].iloc[0],'trip_id':int(file[0]),'vehicle_model': S['vehicle_model'].iloc[0], 'distance': S['distance'].iloc[0],'duration':S['duration'].iloc[0],'slvi':S['slvi'].iloc[0],'segment':S['segment'].iloc[0],'exceed':S['exceed'].iloc[0]}\n",
    "            final=final.append(data,ignore_index=True)\n",
    "            final.to_csv(file_name)\n",
    "            print(final)\n",
    "            \n",
    "        except ValueError:\n",
    "            print(\"Value Error!\")\n",
    "        print(df)\n",
    "    print(final)"
   ]
  },
  {
   "cell_type": "code",
   "execution_count": null,
   "metadata": {},
   "outputs": [],
   "source": []
  },
  {
   "cell_type": "code",
   "execution_count": null,
   "metadata": {},
   "outputs": [],
   "source": []
  },
  {
   "cell_type": "code",
   "execution_count": null,
   "metadata": {},
   "outputs": [],
   "source": []
  },
  {
   "cell_type": "code",
   "execution_count": null,
   "metadata": {},
   "outputs": [],
   "source": []
  },
  {
   "cell_type": "code",
   "execution_count": null,
   "metadata": {},
   "outputs": [],
   "source": [
    "X='188890164.txt'\n",
    "X= X.split(\".\")\n",
    "X[0]"
   ]
  },
  {
   "cell_type": "raw",
   "metadata": {},
   "source": [
    "#final = pd.DataFrame( columns = ['driver_id', 'vehicle_model', 'distance','duration','slvi','segment','exceed'])\n",
    "final.append(exceed(df,entry,str(drivers[\"vehicle_model\"].iloc[index[0]])))"
   ]
  },
  {
   "cell_type": "code",
   "execution_count": null,
   "metadata": {},
   "outputs": [],
   "source": [
    "import datetime\n",
    "time1 = datetime.datetime.fromtimestamp(1570177864)\n",
    "time2 = datetime.datetime.fromtimestamp(1570177874)\n",
    "time_difference = time2 - time1\n",
    "print(time_difference)"
   ]
  },
  {
   "cell_type": "code",
   "execution_count": null,
   "metadata": {},
   "outputs": [],
   "source": [
    "trip[\"highway\"]"
   ]
  },
  {
   "cell_type": "code",
   "execution_count": null,
   "metadata": {},
   "outputs": [],
   "source": [
    "trip"
   ]
  },
  {
   "cell_type": "markdown",
   "metadata": {},
   "source": [
    "### Step 4.4 Visualize matching result"
   ]
  },
  {
   "cell_type": "code",
   "execution_count": null,
   "metadata": {},
   "outputs": [],
   "source": [
    "def trip_bbox_utm(trip):\n",
    "    '''\n",
    "    get the bounding box of the given trip\n",
    "    input: trip: a trajectory\n",
    "    output: (minx, miny, maxx, maxy)\n",
    "    '''\n",
    "    from shapely.geometry import LineString\n",
    "    line = LineString((trip['geometry_utm']))    \n",
    "    return line.buffer(500).bounds\n",
    "\n",
    "def get_candidates_as_geodataframe(trip):\n",
    "    import geopandas as gpd\n",
    "    if 'candidates' not in trip:\n",
    "        return []\n",
    "    candi_points = []\n",
    "    for i in range(0, len(trip)):\n",
    "        for j in range(0, len(trip.iloc[i]['candidates'])):\n",
    "            candi_points.append(trip.iloc[i]['candidates'].iloc[j]['proj_point'])\n",
    "    return gpd.GeoDataFrame(data={'geometry':candi_points})\n",
    "\n",
    "\n",
    "def get_edge_path_lines(edge_path):\n",
    "    import geopandas as gpd\n",
    "    lines = []\n",
    "    for edge in edge_path:\n",
    "        lines.append(edge['geometry'])\n",
    "    lines_gpd = gpd.GeoDataFrame(data={'geometry':lines})\n",
    "    return lines_gpd\n",
    "\n",
    "\n",
    "def visualize_matching_results(trip, edge_idx, figname='temp.pdf'):\n",
    "    '''visualize trip points and their corresponding candidates'''\n",
    "    import geopandas as gpd\n",
    "    # prepare data\n",
    "    edges_collection = gpd.GeoDataFrame((edge_idx.intersection(trip_bbox_utm(trip), objects='raw')))\n",
    "    candidates = get_candidates_as_geodataframe(trip)\n",
    "    trip_utm = gpd.GeoDataFrame(data={'geometry':trip['geometry_utm']})\n",
    "    opt_proj_points = find_optimal_mapping_points(trip,\"1\")\n",
    "    edge_path = find_optimal_path(trip)\n",
    "    edge_path_lines = get_edge_path_lines(edge_path)\n",
    "    # plotting\n",
    "    ax = edges_collection.plot(figsize=(16,14), color='black', alpha=0.1)\n",
    "    trip_utm.plot(ax=ax, color='red', marker='o', markersize=10, label='raw points')\n",
    "   # candidates.plot(ax=ax, color='green', marker='+', markersize=50, label='candidates', alpha=0.5)\n",
    "    opt_proj_points.plot(ax=ax, color='blue', marker='*', markersize=60, label='optimal', alpha=0.5)\n",
    "   # edge_path_lines.plot(ax=ax, color='blue', alpha=0.3, linewidth=5)\n",
    "    \n",
    "    ax.get_legend_handles_labels()\n",
    "    ax.legend()\n",
    "    ax.axis('off')\n",
    "    ax.figure.savefig(figname,dpi=800, format='pdf')"
   ]
  },
  {
   "cell_type": "code",
   "execution_count": null,
   "metadata": {},
   "outputs": [],
   "source": [
    "edge_path = find_optimal_path(trip)\n",
    "print(len(edge_path))"
   ]
  },
  {
   "cell_type": "markdown",
   "metadata": {},
   "source": [
    "# distance using optimum points"
   ]
  },
  {
   "cell_type": "code",
   "execution_count": null,
   "metadata": {},
   "outputs": [],
   "source": [
    "opt_proj_points=find_optimal_mapping_points(trip,\"1\")\n",
    "opt_proj_points"
   ]
  },
  {
   "cell_type": "code",
   "execution_count": null,
   "metadata": {},
   "outputs": [],
   "source": [
    "trip"
   ]
  },
  {
   "cell_type": "code",
   "execution_count": null,
   "metadata": {},
   "outputs": [],
   "source": [
    "trip.iloc[0]['candidates']"
   ]
  },
  {
   "cell_type": "code",
   "execution_count": null,
   "metadata": {},
   "outputs": [],
   "source": [
    "trip"
   ]
  },
  {
   "cell_type": "markdown",
   "metadata": {},
   "source": [
    "# distance for one trip"
   ]
  },
  {
   "cell_type": "code",
   "execution_count": null,
   "metadata": {},
   "outputs": [],
   "source": [
    "geo_latlon=[]\n",
    "for i in opt_proj_points:\n",
    "    list=[]\n",
    "    list.append(i.x)\n",
    "    list.append(i.y)\n",
    "    print(list)\n",
    "    geo_latlon.append(utm_to_latlon(list,44,\"N\"))\n",
    "print(geo_latlon)\n",
    "geo_latlon\n",
    "distance=0\n",
    "for i in range (len(geo_latlon)-1):\n",
    "    distance=distance+ox.distance.great_circle_vec(geo_latlon[i][0], geo_latlon[i][1],geo_latlon[i+1][0], geo_latlon[i+1][1], earth_radius=6371009)\n",
    "    print(distance)"
   ]
  },
  {
   "cell_type": "code",
   "execution_count": null,
   "metadata": {},
   "outputs": [],
   "source": [
    "def get_edge_path_len(edge_path):\n",
    "    import geopandas as gpd\n",
    "    lines = []\n",
    "    for edge in edge_path:\n",
    "        lines.append(edge['length'])\n",
    "    lines_len =sum(lines)\n",
    "    return lines_len"
   ]
  },
  {
   "cell_type": "code",
   "execution_count": null,
   "metadata": {},
   "outputs": [],
   "source": [
    "get_edge_path_len(edge_path)"
   ]
  },
  {
   "cell_type": "code",
   "execution_count": null,
   "metadata": {},
   "outputs": [],
   "source": [
    "edge_path = find_optimal_path(trip)\n",
    "print(edge_path)\n",
    "print(len(edge_path))"
   ]
  },
  {
   "cell_type": "code",
   "execution_count": null,
   "metadata": {},
   "outputs": [],
   "source": [
    "edge_path_lines = get_edge_path_lines(edge_path)\n",
    "print(edge_path_lines)\n",
    "print(len(edge_path_lines))"
   ]
  },
  {
   "cell_type": "code",
   "execution_count": null,
   "metadata": {},
   "outputs": [],
   "source": [
    "visualize_matching_results(trip, edge_idx, figname='matching_results_hmm_0.pdf')"
   ]
  },
  {
   "cell_type": "code",
   "execution_count": null,
   "metadata": {},
   "outputs": [],
   "source": [
    "trip['optimal candidate']"
   ]
  },
  {
   "cell_type": "code",
   "execution_count": null,
   "metadata": {},
   "outputs": [],
   "source": [
    "trip['candidates'][22]"
   ]
  },
  {
   "cell_type": "code",
   "execution_count": null,
   "metadata": {},
   "outputs": [],
   "source": [
    "trip['weights'].iloc[2][0]"
   ]
  },
  {
   "cell_type": "code",
   "execution_count": null,
   "metadata": {},
   "outputs": [],
   "source": [
    "from scipy import stats"
   ]
  },
  {
   "cell_type": "code",
   "execution_count": null,
   "metadata": {},
   "outputs": [],
   "source": [
    "stats.norm.pdf(3,0,1)"
   ]
  },
  {
   "cell_type": "code",
   "execution_count": null,
   "metadata": {},
   "outputs": [],
   "source": [
    "gpd_edges_utm.head(10)"
   ]
  },
  {
   "cell_type": "code",
   "execution_count": null,
   "metadata": {},
   "outputs": [],
   "source": [
    "print road_graph_utm[296058885][1628753289][0]['geometry']"
   ]
  },
  {
   "cell_type": "code",
   "execution_count": null,
   "metadata": {},
   "outputs": [],
   "source": [
    "print road_graph_utm[1628753289][296058885][0]['geometry']"
   ]
  },
  {
   "cell_type": "code",
   "execution_count": null,
   "metadata": {},
   "outputs": [],
   "source": [
    "import math"
   ]
  },
  {
   "cell_type": "code",
   "execution_count": null,
   "metadata": {},
   "outputs": [],
   "source": [
    "math.log(0.0001)"
   ]
  },
  {
   "cell_type": "code",
   "execution_count": null,
   "metadata": {},
   "outputs": [],
   "source": [
    "math.log(0.001)"
   ]
  },
  {
   "cell_type": "code",
   "execution_count": null,
   "metadata": {},
   "outputs": [],
   "source": [
    "trip.iloc[0]['candidates'].apply(lambda x: math.log(x['observation prob']), axis=1)"
   ]
  },
  {
   "cell_type": "code",
   "execution_count": null,
   "metadata": {},
   "outputs": [],
   "source": []
  },
  {
   "cell_type": "code",
   "execution_count": null,
   "metadata": {},
   "outputs": [],
   "source": []
  },
  {
   "cell_type": "code",
   "execution_count": null,
   "metadata": {},
   "outputs": [],
   "source": []
  },
  {
   "cell_type": "code",
   "execution_count": null,
   "metadata": {},
   "outputs": [],
   "source": []
  }
 ],
 "metadata": {
  "kernelspec": {
   "display_name": "Python 3",
   "language": "python",
   "name": "python3"
  },
  "language_info": {
   "codemirror_mode": {
    "name": "ipython",
    "version": 3
   },
   "file_extension": ".py",
   "mimetype": "text/x-python",
   "name": "python",
   "nbconvert_exporter": "python",
   "pygments_lexer": "ipython3",
   "version": "3.6.8"
  }
 },
 "nbformat": 4,
 "nbformat_minor": 2
}
